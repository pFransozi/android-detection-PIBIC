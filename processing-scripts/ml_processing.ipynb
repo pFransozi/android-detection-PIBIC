{
 "cells": [
  {
   "cell_type": "code",
   "execution_count": 33,
   "metadata": {},
   "outputs": [],
   "source": [
    "import pandas as pd\n",
    "import numpy as np\n",
    "from sklearn.preprocessing import MaxAbsScaler"
   ]
  },
  {
   "cell_type": "code",
   "execution_count": 3,
   "metadata": {},
   "outputs": [],
   "source": [
    "df_opcodes = pd.read_csv(\"./csv/opcodes.csv\")\n",
    "df_apicalls = pd.read_csv(\"./csv/apicalls.csv\")\n",
    "df_permissions = pd.read_csv(\"./csv/permissions.csv\")\n",
    "\n",
    "df_opcodes.drop(df_opcodes.columns[0], axis=1, inplace=True)\n",
    "df_apicalls.drop(df_apicalls.columns[0], axis=1, inplace=True)\n",
    "df_permissions.drop(df_permissions.columns[0], axis=1, inplace=True)"
   ]
  },
  {
   "cell_type": "code",
   "execution_count": 10,
   "metadata": {},
   "outputs": [
    {
     "name": "stdout",
     "output_type": "stream",
     "text": [
      "Shapes: opcodes (3, 209), (3, 5349), (3, 20)\n"
     ]
    }
   ],
   "source": [
    "print(f\"Shapes: opcodes {df_opcodes.shape}, {df_apicalls.shape}, {df_permissions.shape}\")"
   ]
  },
  {
   "cell_type": "code",
   "execution_count": 13,
   "metadata": {},
   "outputs": [],
   "source": [
    "y_opcodes = np.array(df_opcodes[\"class\"])\n",
    "y_apicalls = np.array(df_apicalls[\"class\"])\n",
    "y_permissions = np.array(df_permissions[\"class\"])\n",
    "\n",
    "x_opcodes = np.array(df_opcodes.drop(\"class\", axis=1))\n",
    "x_apicalls = np.array(df_apicalls.drop(\"class\", axis=1))\n",
    "x_permissions = np.array(df_permissions.drop(\"class\", axis=1))"
   ]
  },
  {
   "cell_type": "code",
   "execution_count": 34,
   "metadata": {},
   "outputs": [],
   "source": [
    "x_opcodes_normal = MaxAbsScaler().fit_transform(x_opcodes)\n",
    "x_apicalls_normal = MaxAbsScaler().fit_transform(x_apicalls)\n",
    "x_permissions_normal = MaxAbsScaler().fit_transform(x_permissions)"
   ]
  },
  {
   "cell_type": "code",
   "execution_count": null,
   "metadata": {},
   "outputs": [],
   "source": [
    "from sklearn.neighbors import KNeighborsClassifier"
   ]
  }
 ],
 "metadata": {
  "kernelspec": {
   "display_name": ".venv",
   "language": "python",
   "name": "python3"
  },
  "language_info": {
   "codemirror_mode": {
    "name": "ipython",
    "version": 3
   },
   "file_extension": ".py",
   "mimetype": "text/x-python",
   "name": "python",
   "nbconvert_exporter": "python",
   "pygments_lexer": "ipython3",
   "version": "3.10.13"
  }
 },
 "nbformat": 4,
 "nbformat_minor": 2
}
